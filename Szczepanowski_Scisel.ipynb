{
 "cells": [
  {
   "cell_type": "code",
   "execution_count": 6,
   "metadata": {
    "ExecuteTime": {
     "end_time": "2021-10-21T22:50:57.770662Z",
     "start_time": "2021-10-21T22:50:57.762681Z"
    },
    "id": "5XW9FNhpMCgp"
   },
   "outputs": [],
   "source": [
    "import torch\n",
    "import pandas as pd\n",
    "import numpy as np"
   ]
  },
  {
   "cell_type": "code",
   "execution_count": 7,
   "metadata": {
    "ExecuteTime": {
     "end_time": "2021-10-21T22:50:58.077692Z",
     "start_time": "2021-10-21T22:50:58.062560Z"
    },
    "colab": {
     "base_uri": "https://localhost:8080/"
    },
    "id": "GWMyOziqL3BL",
    "outputId": "865a479a-6749-4545-ceee-1544c97ad6c9"
   },
   "outputs": [
    {
     "data": {
      "text/plain": "device(type='cuda')"
     },
     "execution_count": 7,
     "metadata": {},
     "output_type": "execute_result"
    }
   ],
   "source": [
    "device = torch.device(\"cuda\") \n",
    "device"
   ]
  },
  {
   "cell_type": "code",
   "execution_count": 8,
   "metadata": {},
   "outputs": [
    {
     "data": {
      "text/plain": "True"
     },
     "execution_count": 8,
     "metadata": {},
     "output_type": "execute_result"
    }
   ],
   "source": [
    "torch.cuda.is_available()"
   ]
  },
  {
   "cell_type": "code",
   "execution_count": 9,
   "metadata": {},
   "outputs": [],
   "source": [
    "if torch.cuda.is_available(): \n",
    "    torch.cuda.manual_seed(42) # ustawiamy ziarno dla konkretnego GPU którego teraz używamy?\n",
    "    torch.cuda.manual_seed_all(42) # ustawiamy ziarno dla wszystkich GPU\n",
    "    \n",
    "# Additionally, some operations on a GPU are implemented stochastic for efficiency\n",
    "# We want to ensure that all operations are deterministic on GPU (if used) for reproducibility\n",
    "torch.backends.cudnn.determinstic = True\n",
    "torch.backends.cudnn.benchmark = False"
   ]
  },
  {
   "cell_type": "code",
   "execution_count": 10,
   "metadata": {
    "ExecuteTime": {
     "end_time": "2021-10-21T22:50:58.309702Z",
     "start_time": "2021-10-21T22:50:58.273687Z"
    },
    "colab": {
     "base_uri": "https://localhost:8080/",
     "height": 417
    },
    "id": "tTzzy4C8GA0C",
    "outputId": "13d0acfe-5b35-4cf8-e26a-b386b7e23770"
   },
   "outputs": [
    {
     "data": {
      "text/plain": "       instant      dteday  season  yr  mnth  hr  holiday  weekday  \\\n0            1  2011-01-01       1   0     1   0        0        6   \n1            2  2011-01-01       1   0     1   1        0        6   \n2            3  2011-01-01       1   0     1   2        0        6   \n3            4  2011-01-01       1   0     1   3        0        6   \n4            5  2011-01-01       1   0     1   4        0        6   \n...        ...         ...     ...  ..   ...  ..      ...      ...   \n10881    17089  2012-12-19       4   1    12  19        0        3   \n10882    17090  2012-12-19       4   1    12  20        0        3   \n10883    17091  2012-12-19       4   1    12  21        0        3   \n10884    17092  2012-12-19       4   1    12  22        0        3   \n10885    17093  2012-12-19       4   1    12  23        0        3   \n\n       workingday  weathersit  temp   atemp   hum  windspeed  casual  \\\n0               0           1  0.24  0.2879  0.81     0.0000       3   \n1               0           1  0.22  0.2727  0.80     0.0000       8   \n2               0           1  0.22  0.2727  0.80     0.0000       5   \n3               0           1  0.24  0.2879  0.75     0.0000       3   \n4               0           1  0.24  0.2879  0.75     0.0000       0   \n...           ...         ...   ...     ...   ...        ...     ...   \n10881           1           1  0.38  0.3939  0.50     0.3881       7   \n10882           1           1  0.36  0.3485  0.57     0.2239      10   \n10883           1           1  0.34  0.3182  0.61     0.2239       4   \n10884           1           1  0.34  0.3485  0.61     0.0896      12   \n10885           1           1  0.32  0.3333  0.66     0.1343       4   \n\n       registered  cnt  \n0              13   16  \n1              32   40  \n2              27   32  \n3              10   13  \n4               1    1  \n...           ...  ...  \n10881         329  336  \n10882         231  241  \n10883         164  168  \n10884         117  129  \n10885          84   88  \n\n[10886 rows x 17 columns]",
      "text/html": "<div>\n<style scoped>\n    .dataframe tbody tr th:only-of-type {\n        vertical-align: middle;\n    }\n\n    .dataframe tbody tr th {\n        vertical-align: top;\n    }\n\n    .dataframe thead th {\n        text-align: right;\n    }\n</style>\n<table border=\"1\" class=\"dataframe\">\n  <thead>\n    <tr style=\"text-align: right;\">\n      <th></th>\n      <th>instant</th>\n      <th>dteday</th>\n      <th>season</th>\n      <th>yr</th>\n      <th>mnth</th>\n      <th>hr</th>\n      <th>holiday</th>\n      <th>weekday</th>\n      <th>workingday</th>\n      <th>weathersit</th>\n      <th>temp</th>\n      <th>atemp</th>\n      <th>hum</th>\n      <th>windspeed</th>\n      <th>casual</th>\n      <th>registered</th>\n      <th>cnt</th>\n    </tr>\n  </thead>\n  <tbody>\n    <tr>\n      <th>0</th>\n      <td>1</td>\n      <td>2011-01-01</td>\n      <td>1</td>\n      <td>0</td>\n      <td>1</td>\n      <td>0</td>\n      <td>0</td>\n      <td>6</td>\n      <td>0</td>\n      <td>1</td>\n      <td>0.24</td>\n      <td>0.2879</td>\n      <td>0.81</td>\n      <td>0.0000</td>\n      <td>3</td>\n      <td>13</td>\n      <td>16</td>\n    </tr>\n    <tr>\n      <th>1</th>\n      <td>2</td>\n      <td>2011-01-01</td>\n      <td>1</td>\n      <td>0</td>\n      <td>1</td>\n      <td>1</td>\n      <td>0</td>\n      <td>6</td>\n      <td>0</td>\n      <td>1</td>\n      <td>0.22</td>\n      <td>0.2727</td>\n      <td>0.80</td>\n      <td>0.0000</td>\n      <td>8</td>\n      <td>32</td>\n      <td>40</td>\n    </tr>\n    <tr>\n      <th>2</th>\n      <td>3</td>\n      <td>2011-01-01</td>\n      <td>1</td>\n      <td>0</td>\n      <td>1</td>\n      <td>2</td>\n      <td>0</td>\n      <td>6</td>\n      <td>0</td>\n      <td>1</td>\n      <td>0.22</td>\n      <td>0.2727</td>\n      <td>0.80</td>\n      <td>0.0000</td>\n      <td>5</td>\n      <td>27</td>\n      <td>32</td>\n    </tr>\n    <tr>\n      <th>3</th>\n      <td>4</td>\n      <td>2011-01-01</td>\n      <td>1</td>\n      <td>0</td>\n      <td>1</td>\n      <td>3</td>\n      <td>0</td>\n      <td>6</td>\n      <td>0</td>\n      <td>1</td>\n      <td>0.24</td>\n      <td>0.2879</td>\n      <td>0.75</td>\n      <td>0.0000</td>\n      <td>3</td>\n      <td>10</td>\n      <td>13</td>\n    </tr>\n    <tr>\n      <th>4</th>\n      <td>5</td>\n      <td>2011-01-01</td>\n      <td>1</td>\n      <td>0</td>\n      <td>1</td>\n      <td>4</td>\n      <td>0</td>\n      <td>6</td>\n      <td>0</td>\n      <td>1</td>\n      <td>0.24</td>\n      <td>0.2879</td>\n      <td>0.75</td>\n      <td>0.0000</td>\n      <td>0</td>\n      <td>1</td>\n      <td>1</td>\n    </tr>\n    <tr>\n      <th>...</th>\n      <td>...</td>\n      <td>...</td>\n      <td>...</td>\n      <td>...</td>\n      <td>...</td>\n      <td>...</td>\n      <td>...</td>\n      <td>...</td>\n      <td>...</td>\n      <td>...</td>\n      <td>...</td>\n      <td>...</td>\n      <td>...</td>\n      <td>...</td>\n      <td>...</td>\n      <td>...</td>\n      <td>...</td>\n    </tr>\n    <tr>\n      <th>10881</th>\n      <td>17089</td>\n      <td>2012-12-19</td>\n      <td>4</td>\n      <td>1</td>\n      <td>12</td>\n      <td>19</td>\n      <td>0</td>\n      <td>3</td>\n      <td>1</td>\n      <td>1</td>\n      <td>0.38</td>\n      <td>0.3939</td>\n      <td>0.50</td>\n      <td>0.3881</td>\n      <td>7</td>\n      <td>329</td>\n      <td>336</td>\n    </tr>\n    <tr>\n      <th>10882</th>\n      <td>17090</td>\n      <td>2012-12-19</td>\n      <td>4</td>\n      <td>1</td>\n      <td>12</td>\n      <td>20</td>\n      <td>0</td>\n      <td>3</td>\n      <td>1</td>\n      <td>1</td>\n      <td>0.36</td>\n      <td>0.3485</td>\n      <td>0.57</td>\n      <td>0.2239</td>\n      <td>10</td>\n      <td>231</td>\n      <td>241</td>\n    </tr>\n    <tr>\n      <th>10883</th>\n      <td>17091</td>\n      <td>2012-12-19</td>\n      <td>4</td>\n      <td>1</td>\n      <td>12</td>\n      <td>21</td>\n      <td>0</td>\n      <td>3</td>\n      <td>1</td>\n      <td>1</td>\n      <td>0.34</td>\n      <td>0.3182</td>\n      <td>0.61</td>\n      <td>0.2239</td>\n      <td>4</td>\n      <td>164</td>\n      <td>168</td>\n    </tr>\n    <tr>\n      <th>10884</th>\n      <td>17092</td>\n      <td>2012-12-19</td>\n      <td>4</td>\n      <td>1</td>\n      <td>12</td>\n      <td>22</td>\n      <td>0</td>\n      <td>3</td>\n      <td>1</td>\n      <td>1</td>\n      <td>0.34</td>\n      <td>0.3485</td>\n      <td>0.61</td>\n      <td>0.0896</td>\n      <td>12</td>\n      <td>117</td>\n      <td>129</td>\n    </tr>\n    <tr>\n      <th>10885</th>\n      <td>17093</td>\n      <td>2012-12-19</td>\n      <td>4</td>\n      <td>1</td>\n      <td>12</td>\n      <td>23</td>\n      <td>0</td>\n      <td>3</td>\n      <td>1</td>\n      <td>1</td>\n      <td>0.32</td>\n      <td>0.3333</td>\n      <td>0.66</td>\n      <td>0.1343</td>\n      <td>4</td>\n      <td>84</td>\n      <td>88</td>\n    </tr>\n  </tbody>\n</table>\n<p>10886 rows × 17 columns</p>\n</div>"
     },
     "execution_count": 10,
     "metadata": {},
     "output_type": "execute_result"
    }
   ],
   "source": [
    "df = pd.read_csv('data.csv')\n",
    "df"
   ]
  },
  {
   "cell_type": "code",
   "execution_count": 11,
   "metadata": {
    "ExecuteTime": {
     "end_time": "2021-10-21T22:50:58.464574Z",
     "start_time": "2021-10-21T22:50:58.436416Z"
    },
    "colab": {
     "base_uri": "https://localhost:8080/",
     "height": 417
    },
    "id": "DQSSvnjykHRl",
    "outputId": "e628f7b2-1317-471e-fca4-eed26463fb7d",
    "scrolled": true
   },
   "outputs": [
    {
     "data": {
      "text/plain": "          dteday  season  yr  mnth  hr  holiday  weekday  workingday  \\\n0     2011-01-20       1   0     1   0        0        4           1   \n1     2011-01-20       1   0     1   1        0        4           1   \n2     2011-01-20       1   0     1   2        0        4           1   \n3     2011-01-20       1   0     1   3        0        4           1   \n4     2011-01-20       1   0     1   4        0        4           1   \n...          ...     ...  ..   ...  ..      ...      ...         ...   \n6488  2012-12-31       1   1    12  19        0        1           1   \n6489  2012-12-31       1   1    12  20        0        1           1   \n6490  2012-12-31       1   1    12  21        0        1           1   \n6491  2012-12-31       1   1    12  22        0        1           1   \n6492  2012-12-31       1   1    12  23        0        1           1   \n\n      weathersit  temp   atemp   hum  windspeed  \n0              1  0.26  0.2273  0.56     0.3881  \n1              1  0.26  0.2727  0.56     0.0000  \n2              1  0.26  0.2727  0.56     0.0000  \n3              1  0.26  0.2576  0.56     0.1642  \n4              1  0.26  0.2576  0.56     0.1642  \n...          ...   ...     ...   ...        ...  \n6488           2  0.26  0.2576  0.60     0.1642  \n6489           2  0.26  0.2576  0.60     0.1642  \n6490           1  0.26  0.2576  0.60     0.1642  \n6491           1  0.26  0.2727  0.56     0.1343  \n6492           1  0.26  0.2727  0.65     0.1343  \n\n[6493 rows x 13 columns]",
      "text/html": "<div>\n<style scoped>\n    .dataframe tbody tr th:only-of-type {\n        vertical-align: middle;\n    }\n\n    .dataframe tbody tr th {\n        vertical-align: top;\n    }\n\n    .dataframe thead th {\n        text-align: right;\n    }\n</style>\n<table border=\"1\" class=\"dataframe\">\n  <thead>\n    <tr style=\"text-align: right;\">\n      <th></th>\n      <th>dteday</th>\n      <th>season</th>\n      <th>yr</th>\n      <th>mnth</th>\n      <th>hr</th>\n      <th>holiday</th>\n      <th>weekday</th>\n      <th>workingday</th>\n      <th>weathersit</th>\n      <th>temp</th>\n      <th>atemp</th>\n      <th>hum</th>\n      <th>windspeed</th>\n    </tr>\n  </thead>\n  <tbody>\n    <tr>\n      <th>0</th>\n      <td>2011-01-20</td>\n      <td>1</td>\n      <td>0</td>\n      <td>1</td>\n      <td>0</td>\n      <td>0</td>\n      <td>4</td>\n      <td>1</td>\n      <td>1</td>\n      <td>0.26</td>\n      <td>0.2273</td>\n      <td>0.56</td>\n      <td>0.3881</td>\n    </tr>\n    <tr>\n      <th>1</th>\n      <td>2011-01-20</td>\n      <td>1</td>\n      <td>0</td>\n      <td>1</td>\n      <td>1</td>\n      <td>0</td>\n      <td>4</td>\n      <td>1</td>\n      <td>1</td>\n      <td>0.26</td>\n      <td>0.2727</td>\n      <td>0.56</td>\n      <td>0.0000</td>\n    </tr>\n    <tr>\n      <th>2</th>\n      <td>2011-01-20</td>\n      <td>1</td>\n      <td>0</td>\n      <td>1</td>\n      <td>2</td>\n      <td>0</td>\n      <td>4</td>\n      <td>1</td>\n      <td>1</td>\n      <td>0.26</td>\n      <td>0.2727</td>\n      <td>0.56</td>\n      <td>0.0000</td>\n    </tr>\n    <tr>\n      <th>3</th>\n      <td>2011-01-20</td>\n      <td>1</td>\n      <td>0</td>\n      <td>1</td>\n      <td>3</td>\n      <td>0</td>\n      <td>4</td>\n      <td>1</td>\n      <td>1</td>\n      <td>0.26</td>\n      <td>0.2576</td>\n      <td>0.56</td>\n      <td>0.1642</td>\n    </tr>\n    <tr>\n      <th>4</th>\n      <td>2011-01-20</td>\n      <td>1</td>\n      <td>0</td>\n      <td>1</td>\n      <td>4</td>\n      <td>0</td>\n      <td>4</td>\n      <td>1</td>\n      <td>1</td>\n      <td>0.26</td>\n      <td>0.2576</td>\n      <td>0.56</td>\n      <td>0.1642</td>\n    </tr>\n    <tr>\n      <th>...</th>\n      <td>...</td>\n      <td>...</td>\n      <td>...</td>\n      <td>...</td>\n      <td>...</td>\n      <td>...</td>\n      <td>...</td>\n      <td>...</td>\n      <td>...</td>\n      <td>...</td>\n      <td>...</td>\n      <td>...</td>\n      <td>...</td>\n    </tr>\n    <tr>\n      <th>6488</th>\n      <td>2012-12-31</td>\n      <td>1</td>\n      <td>1</td>\n      <td>12</td>\n      <td>19</td>\n      <td>0</td>\n      <td>1</td>\n      <td>1</td>\n      <td>2</td>\n      <td>0.26</td>\n      <td>0.2576</td>\n      <td>0.60</td>\n      <td>0.1642</td>\n    </tr>\n    <tr>\n      <th>6489</th>\n      <td>2012-12-31</td>\n      <td>1</td>\n      <td>1</td>\n      <td>12</td>\n      <td>20</td>\n      <td>0</td>\n      <td>1</td>\n      <td>1</td>\n      <td>2</td>\n      <td>0.26</td>\n      <td>0.2576</td>\n      <td>0.60</td>\n      <td>0.1642</td>\n    </tr>\n    <tr>\n      <th>6490</th>\n      <td>2012-12-31</td>\n      <td>1</td>\n      <td>1</td>\n      <td>12</td>\n      <td>21</td>\n      <td>0</td>\n      <td>1</td>\n      <td>1</td>\n      <td>1</td>\n      <td>0.26</td>\n      <td>0.2576</td>\n      <td>0.60</td>\n      <td>0.1642</td>\n    </tr>\n    <tr>\n      <th>6491</th>\n      <td>2012-12-31</td>\n      <td>1</td>\n      <td>1</td>\n      <td>12</td>\n      <td>22</td>\n      <td>0</td>\n      <td>1</td>\n      <td>1</td>\n      <td>1</td>\n      <td>0.26</td>\n      <td>0.2727</td>\n      <td>0.56</td>\n      <td>0.1343</td>\n    </tr>\n    <tr>\n      <th>6492</th>\n      <td>2012-12-31</td>\n      <td>1</td>\n      <td>1</td>\n      <td>12</td>\n      <td>23</td>\n      <td>0</td>\n      <td>1</td>\n      <td>1</td>\n      <td>1</td>\n      <td>0.26</td>\n      <td>0.2727</td>\n      <td>0.65</td>\n      <td>0.1343</td>\n    </tr>\n  </tbody>\n</table>\n<p>6493 rows × 13 columns</p>\n</div>"
     },
     "execution_count": 11,
     "metadata": {},
     "output_type": "execute_result"
    }
   ],
   "source": [
    "data_ev = pd.read_csv('evaluation_data.csv')\n",
    "data_ev"
   ]
  },
  {
   "cell_type": "code",
   "execution_count": 12,
   "metadata": {
    "ExecuteTime": {
     "end_time": "2021-10-21T22:50:58.633251Z",
     "start_time": "2021-10-21T22:50:58.620262Z"
    },
    "colab": {
     "base_uri": "https://localhost:8080/",
     "height": 417
    },
    "id": "TV0ub6W8GjRb",
    "outputId": "ed6a38e6-1333-4b18-8588-4a72ea812d97",
    "scrolled": true
   },
   "outputs": [],
   "source": [
    "df = df.drop(['dteday', 'casual', 'registered', 'instant'], axis=1)\n",
    "# data_ev = data_ev.drop('dteday')\n"
   ]
  },
  {
   "cell_type": "code",
   "execution_count": 13,
   "metadata": {
    "ExecuteTime": {
     "end_time": "2021-10-21T22:50:58.816072Z",
     "start_time": "2021-10-21T22:50:58.801065Z"
    }
   },
   "outputs": [],
   "source": [
    "data_ev = data_ev.drop(['dteday'], axis=1)"
   ]
  },
  {
   "cell_type": "code",
   "execution_count": 14,
   "metadata": {
    "ExecuteTime": {
     "end_time": "2021-10-21T22:50:58.985187Z",
     "start_time": "2021-10-21T22:50:58.962184Z"
    },
    "scrolled": true
   },
   "outputs": [
    {
     "data": {
      "text/plain": "       season  yr  mnth  hr  holiday  weekday  workingday  weathersit  temp  \\\n0           1   0     1   0        0        6           0           1  0.24   \n1           1   0     1   1        0        6           0           1  0.22   \n2           1   0     1   2        0        6           0           1  0.22   \n3           1   0     1   3        0        6           0           1  0.24   \n4           1   0     1   4        0        6           0           1  0.24   \n...       ...  ..   ...  ..      ...      ...         ...         ...   ...   \n10881       4   1    12  19        0        3           1           1  0.38   \n10882       4   1    12  20        0        3           1           1  0.36   \n10883       4   1    12  21        0        3           1           1  0.34   \n10884       4   1    12  22        0        3           1           1  0.34   \n10885       4   1    12  23        0        3           1           1  0.32   \n\n        atemp   hum  windspeed  cnt  \n0      0.2879  0.81     0.0000   16  \n1      0.2727  0.80     0.0000   40  \n2      0.2727  0.80     0.0000   32  \n3      0.2879  0.75     0.0000   13  \n4      0.2879  0.75     0.0000    1  \n...       ...   ...        ...  ...  \n10881  0.3939  0.50     0.3881  336  \n10882  0.3485  0.57     0.2239  241  \n10883  0.3182  0.61     0.2239  168  \n10884  0.3485  0.61     0.0896  129  \n10885  0.3333  0.66     0.1343   88  \n\n[10886 rows x 13 columns]",
      "text/html": "<div>\n<style scoped>\n    .dataframe tbody tr th:only-of-type {\n        vertical-align: middle;\n    }\n\n    .dataframe tbody tr th {\n        vertical-align: top;\n    }\n\n    .dataframe thead th {\n        text-align: right;\n    }\n</style>\n<table border=\"1\" class=\"dataframe\">\n  <thead>\n    <tr style=\"text-align: right;\">\n      <th></th>\n      <th>season</th>\n      <th>yr</th>\n      <th>mnth</th>\n      <th>hr</th>\n      <th>holiday</th>\n      <th>weekday</th>\n      <th>workingday</th>\n      <th>weathersit</th>\n      <th>temp</th>\n      <th>atemp</th>\n      <th>hum</th>\n      <th>windspeed</th>\n      <th>cnt</th>\n    </tr>\n  </thead>\n  <tbody>\n    <tr>\n      <th>0</th>\n      <td>1</td>\n      <td>0</td>\n      <td>1</td>\n      <td>0</td>\n      <td>0</td>\n      <td>6</td>\n      <td>0</td>\n      <td>1</td>\n      <td>0.24</td>\n      <td>0.2879</td>\n      <td>0.81</td>\n      <td>0.0000</td>\n      <td>16</td>\n    </tr>\n    <tr>\n      <th>1</th>\n      <td>1</td>\n      <td>0</td>\n      <td>1</td>\n      <td>1</td>\n      <td>0</td>\n      <td>6</td>\n      <td>0</td>\n      <td>1</td>\n      <td>0.22</td>\n      <td>0.2727</td>\n      <td>0.80</td>\n      <td>0.0000</td>\n      <td>40</td>\n    </tr>\n    <tr>\n      <th>2</th>\n      <td>1</td>\n      <td>0</td>\n      <td>1</td>\n      <td>2</td>\n      <td>0</td>\n      <td>6</td>\n      <td>0</td>\n      <td>1</td>\n      <td>0.22</td>\n      <td>0.2727</td>\n      <td>0.80</td>\n      <td>0.0000</td>\n      <td>32</td>\n    </tr>\n    <tr>\n      <th>3</th>\n      <td>1</td>\n      <td>0</td>\n      <td>1</td>\n      <td>3</td>\n      <td>0</td>\n      <td>6</td>\n      <td>0</td>\n      <td>1</td>\n      <td>0.24</td>\n      <td>0.2879</td>\n      <td>0.75</td>\n      <td>0.0000</td>\n      <td>13</td>\n    </tr>\n    <tr>\n      <th>4</th>\n      <td>1</td>\n      <td>0</td>\n      <td>1</td>\n      <td>4</td>\n      <td>0</td>\n      <td>6</td>\n      <td>0</td>\n      <td>1</td>\n      <td>0.24</td>\n      <td>0.2879</td>\n      <td>0.75</td>\n      <td>0.0000</td>\n      <td>1</td>\n    </tr>\n    <tr>\n      <th>...</th>\n      <td>...</td>\n      <td>...</td>\n      <td>...</td>\n      <td>...</td>\n      <td>...</td>\n      <td>...</td>\n      <td>...</td>\n      <td>...</td>\n      <td>...</td>\n      <td>...</td>\n      <td>...</td>\n      <td>...</td>\n      <td>...</td>\n    </tr>\n    <tr>\n      <th>10881</th>\n      <td>4</td>\n      <td>1</td>\n      <td>12</td>\n      <td>19</td>\n      <td>0</td>\n      <td>3</td>\n      <td>1</td>\n      <td>1</td>\n      <td>0.38</td>\n      <td>0.3939</td>\n      <td>0.50</td>\n      <td>0.3881</td>\n      <td>336</td>\n    </tr>\n    <tr>\n      <th>10882</th>\n      <td>4</td>\n      <td>1</td>\n      <td>12</td>\n      <td>20</td>\n      <td>0</td>\n      <td>3</td>\n      <td>1</td>\n      <td>1</td>\n      <td>0.36</td>\n      <td>0.3485</td>\n      <td>0.57</td>\n      <td>0.2239</td>\n      <td>241</td>\n    </tr>\n    <tr>\n      <th>10883</th>\n      <td>4</td>\n      <td>1</td>\n      <td>12</td>\n      <td>21</td>\n      <td>0</td>\n      <td>3</td>\n      <td>1</td>\n      <td>1</td>\n      <td>0.34</td>\n      <td>0.3182</td>\n      <td>0.61</td>\n      <td>0.2239</td>\n      <td>168</td>\n    </tr>\n    <tr>\n      <th>10884</th>\n      <td>4</td>\n      <td>1</td>\n      <td>12</td>\n      <td>22</td>\n      <td>0</td>\n      <td>3</td>\n      <td>1</td>\n      <td>1</td>\n      <td>0.34</td>\n      <td>0.3485</td>\n      <td>0.61</td>\n      <td>0.0896</td>\n      <td>129</td>\n    </tr>\n    <tr>\n      <th>10885</th>\n      <td>4</td>\n      <td>1</td>\n      <td>12</td>\n      <td>23</td>\n      <td>0</td>\n      <td>3</td>\n      <td>1</td>\n      <td>1</td>\n      <td>0.32</td>\n      <td>0.3333</td>\n      <td>0.66</td>\n      <td>0.1343</td>\n      <td>88</td>\n    </tr>\n  </tbody>\n</table>\n<p>10886 rows × 13 columns</p>\n</div>"
     },
     "execution_count": 14,
     "metadata": {},
     "output_type": "execute_result"
    }
   ],
   "source": [
    "df"
   ]
  },
  {
   "cell_type": "code",
   "execution_count": 15,
   "metadata": {
    "ExecuteTime": {
     "end_time": "2021-10-21T22:50:59.170246Z",
     "start_time": "2021-10-21T22:50:59.148162Z"
    }
   },
   "outputs": [
    {
     "data": {
      "text/plain": "      season  yr  mnth  hr  holiday  weekday  workingday  weathersit  temp  \\\n0          1   0     1   0        0        4           1           1  0.26   \n1          1   0     1   1        0        4           1           1  0.26   \n2          1   0     1   2        0        4           1           1  0.26   \n3          1   0     1   3        0        4           1           1  0.26   \n4          1   0     1   4        0        4           1           1  0.26   \n...      ...  ..   ...  ..      ...      ...         ...         ...   ...   \n6488       1   1    12  19        0        1           1           2  0.26   \n6489       1   1    12  20        0        1           1           2  0.26   \n6490       1   1    12  21        0        1           1           1  0.26   \n6491       1   1    12  22        0        1           1           1  0.26   \n6492       1   1    12  23        0        1           1           1  0.26   \n\n       atemp   hum  windspeed  \n0     0.2273  0.56     0.3881  \n1     0.2727  0.56     0.0000  \n2     0.2727  0.56     0.0000  \n3     0.2576  0.56     0.1642  \n4     0.2576  0.56     0.1642  \n...      ...   ...        ...  \n6488  0.2576  0.60     0.1642  \n6489  0.2576  0.60     0.1642  \n6490  0.2576  0.60     0.1642  \n6491  0.2727  0.56     0.1343  \n6492  0.2727  0.65     0.1343  \n\n[6493 rows x 12 columns]",
      "text/html": "<div>\n<style scoped>\n    .dataframe tbody tr th:only-of-type {\n        vertical-align: middle;\n    }\n\n    .dataframe tbody tr th {\n        vertical-align: top;\n    }\n\n    .dataframe thead th {\n        text-align: right;\n    }\n</style>\n<table border=\"1\" class=\"dataframe\">\n  <thead>\n    <tr style=\"text-align: right;\">\n      <th></th>\n      <th>season</th>\n      <th>yr</th>\n      <th>mnth</th>\n      <th>hr</th>\n      <th>holiday</th>\n      <th>weekday</th>\n      <th>workingday</th>\n      <th>weathersit</th>\n      <th>temp</th>\n      <th>atemp</th>\n      <th>hum</th>\n      <th>windspeed</th>\n    </tr>\n  </thead>\n  <tbody>\n    <tr>\n      <th>0</th>\n      <td>1</td>\n      <td>0</td>\n      <td>1</td>\n      <td>0</td>\n      <td>0</td>\n      <td>4</td>\n      <td>1</td>\n      <td>1</td>\n      <td>0.26</td>\n      <td>0.2273</td>\n      <td>0.56</td>\n      <td>0.3881</td>\n    </tr>\n    <tr>\n      <th>1</th>\n      <td>1</td>\n      <td>0</td>\n      <td>1</td>\n      <td>1</td>\n      <td>0</td>\n      <td>4</td>\n      <td>1</td>\n      <td>1</td>\n      <td>0.26</td>\n      <td>0.2727</td>\n      <td>0.56</td>\n      <td>0.0000</td>\n    </tr>\n    <tr>\n      <th>2</th>\n      <td>1</td>\n      <td>0</td>\n      <td>1</td>\n      <td>2</td>\n      <td>0</td>\n      <td>4</td>\n      <td>1</td>\n      <td>1</td>\n      <td>0.26</td>\n      <td>0.2727</td>\n      <td>0.56</td>\n      <td>0.0000</td>\n    </tr>\n    <tr>\n      <th>3</th>\n      <td>1</td>\n      <td>0</td>\n      <td>1</td>\n      <td>3</td>\n      <td>0</td>\n      <td>4</td>\n      <td>1</td>\n      <td>1</td>\n      <td>0.26</td>\n      <td>0.2576</td>\n      <td>0.56</td>\n      <td>0.1642</td>\n    </tr>\n    <tr>\n      <th>4</th>\n      <td>1</td>\n      <td>0</td>\n      <td>1</td>\n      <td>4</td>\n      <td>0</td>\n      <td>4</td>\n      <td>1</td>\n      <td>1</td>\n      <td>0.26</td>\n      <td>0.2576</td>\n      <td>0.56</td>\n      <td>0.1642</td>\n    </tr>\n    <tr>\n      <th>...</th>\n      <td>...</td>\n      <td>...</td>\n      <td>...</td>\n      <td>...</td>\n      <td>...</td>\n      <td>...</td>\n      <td>...</td>\n      <td>...</td>\n      <td>...</td>\n      <td>...</td>\n      <td>...</td>\n      <td>...</td>\n    </tr>\n    <tr>\n      <th>6488</th>\n      <td>1</td>\n      <td>1</td>\n      <td>12</td>\n      <td>19</td>\n      <td>0</td>\n      <td>1</td>\n      <td>1</td>\n      <td>2</td>\n      <td>0.26</td>\n      <td>0.2576</td>\n      <td>0.60</td>\n      <td>0.1642</td>\n    </tr>\n    <tr>\n      <th>6489</th>\n      <td>1</td>\n      <td>1</td>\n      <td>12</td>\n      <td>20</td>\n      <td>0</td>\n      <td>1</td>\n      <td>1</td>\n      <td>2</td>\n      <td>0.26</td>\n      <td>0.2576</td>\n      <td>0.60</td>\n      <td>0.1642</td>\n    </tr>\n    <tr>\n      <th>6490</th>\n      <td>1</td>\n      <td>1</td>\n      <td>12</td>\n      <td>21</td>\n      <td>0</td>\n      <td>1</td>\n      <td>1</td>\n      <td>1</td>\n      <td>0.26</td>\n      <td>0.2576</td>\n      <td>0.60</td>\n      <td>0.1642</td>\n    </tr>\n    <tr>\n      <th>6491</th>\n      <td>1</td>\n      <td>1</td>\n      <td>12</td>\n      <td>22</td>\n      <td>0</td>\n      <td>1</td>\n      <td>1</td>\n      <td>1</td>\n      <td>0.26</td>\n      <td>0.2727</td>\n      <td>0.56</td>\n      <td>0.1343</td>\n    </tr>\n    <tr>\n      <th>6492</th>\n      <td>1</td>\n      <td>1</td>\n      <td>12</td>\n      <td>23</td>\n      <td>0</td>\n      <td>1</td>\n      <td>1</td>\n      <td>1</td>\n      <td>0.26</td>\n      <td>0.2727</td>\n      <td>0.65</td>\n      <td>0.1343</td>\n    </tr>\n  </tbody>\n</table>\n<p>6493 rows × 12 columns</p>\n</div>"
     },
     "execution_count": 15,
     "metadata": {},
     "output_type": "execute_result"
    }
   ],
   "source": [
    "data_ev"
   ]
  },
  {
   "cell_type": "code",
   "execution_count": 16,
   "metadata": {
    "ExecuteTime": {
     "end_time": "2021-10-21T22:50:59.325628Z",
     "start_time": "2021-10-21T22:50:59.312450Z"
    },
    "colab": {
     "base_uri": "https://localhost:8080/"
    },
    "id": "LCsaqbqNQ6I3",
    "outputId": "45fba790-eab4-43b4-f21f-06f040a6d142"
   },
   "outputs": [],
   "source": [
    "\n",
    "max_val = df[['cnt']].max()\n",
    "df[['cnt']] = df[['cnt']].apply(lambda x: x / x.max())\n"
   ]
  },
  {
   "cell_type": "code",
   "execution_count": 17,
   "metadata": {},
   "outputs": [
    {
     "data": {
      "text/plain": "       season  yr  mnth  hr  holiday  weekday  workingday  weathersit  temp  \\\n0           1   0     1   0        0        6           0           1  0.24   \n1           1   0     1   1        0        6           0           1  0.22   \n2           1   0     1   2        0        6           0           1  0.22   \n3           1   0     1   3        0        6           0           1  0.24   \n4           1   0     1   4        0        6           0           1  0.24   \n...       ...  ..   ...  ..      ...      ...         ...         ...   ...   \n10881       4   1    12  19        0        3           1           1  0.38   \n10882       4   1    12  20        0        3           1           1  0.36   \n10883       4   1    12  21        0        3           1           1  0.34   \n10884       4   1    12  22        0        3           1           1  0.34   \n10885       4   1    12  23        0        3           1           1  0.32   \n\n        atemp   hum  windspeed       cnt  \n0      0.2879  0.81     0.0000  0.016377  \n1      0.2727  0.80     0.0000  0.040942  \n2      0.2727  0.80     0.0000  0.032753  \n3      0.2879  0.75     0.0000  0.013306  \n4      0.2879  0.75     0.0000  0.001024  \n...       ...   ...        ...       ...  \n10881  0.3939  0.50     0.3881  0.343910  \n10882  0.3485  0.57     0.2239  0.246673  \n10883  0.3182  0.61     0.2239  0.171955  \n10884  0.3485  0.61     0.0896  0.132037  \n10885  0.3333  0.66     0.1343  0.090072  \n\n[10886 rows x 13 columns]",
      "text/html": "<div>\n<style scoped>\n    .dataframe tbody tr th:only-of-type {\n        vertical-align: middle;\n    }\n\n    .dataframe tbody tr th {\n        vertical-align: top;\n    }\n\n    .dataframe thead th {\n        text-align: right;\n    }\n</style>\n<table border=\"1\" class=\"dataframe\">\n  <thead>\n    <tr style=\"text-align: right;\">\n      <th></th>\n      <th>season</th>\n      <th>yr</th>\n      <th>mnth</th>\n      <th>hr</th>\n      <th>holiday</th>\n      <th>weekday</th>\n      <th>workingday</th>\n      <th>weathersit</th>\n      <th>temp</th>\n      <th>atemp</th>\n      <th>hum</th>\n      <th>windspeed</th>\n      <th>cnt</th>\n    </tr>\n  </thead>\n  <tbody>\n    <tr>\n      <th>0</th>\n      <td>1</td>\n      <td>0</td>\n      <td>1</td>\n      <td>0</td>\n      <td>0</td>\n      <td>6</td>\n      <td>0</td>\n      <td>1</td>\n      <td>0.24</td>\n      <td>0.2879</td>\n      <td>0.81</td>\n      <td>0.0000</td>\n      <td>0.016377</td>\n    </tr>\n    <tr>\n      <th>1</th>\n      <td>1</td>\n      <td>0</td>\n      <td>1</td>\n      <td>1</td>\n      <td>0</td>\n      <td>6</td>\n      <td>0</td>\n      <td>1</td>\n      <td>0.22</td>\n      <td>0.2727</td>\n      <td>0.80</td>\n      <td>0.0000</td>\n      <td>0.040942</td>\n    </tr>\n    <tr>\n      <th>2</th>\n      <td>1</td>\n      <td>0</td>\n      <td>1</td>\n      <td>2</td>\n      <td>0</td>\n      <td>6</td>\n      <td>0</td>\n      <td>1</td>\n      <td>0.22</td>\n      <td>0.2727</td>\n      <td>0.80</td>\n      <td>0.0000</td>\n      <td>0.032753</td>\n    </tr>\n    <tr>\n      <th>3</th>\n      <td>1</td>\n      <td>0</td>\n      <td>1</td>\n      <td>3</td>\n      <td>0</td>\n      <td>6</td>\n      <td>0</td>\n      <td>1</td>\n      <td>0.24</td>\n      <td>0.2879</td>\n      <td>0.75</td>\n      <td>0.0000</td>\n      <td>0.013306</td>\n    </tr>\n    <tr>\n      <th>4</th>\n      <td>1</td>\n      <td>0</td>\n      <td>1</td>\n      <td>4</td>\n      <td>0</td>\n      <td>6</td>\n      <td>0</td>\n      <td>1</td>\n      <td>0.24</td>\n      <td>0.2879</td>\n      <td>0.75</td>\n      <td>0.0000</td>\n      <td>0.001024</td>\n    </tr>\n    <tr>\n      <th>...</th>\n      <td>...</td>\n      <td>...</td>\n      <td>...</td>\n      <td>...</td>\n      <td>...</td>\n      <td>...</td>\n      <td>...</td>\n      <td>...</td>\n      <td>...</td>\n      <td>...</td>\n      <td>...</td>\n      <td>...</td>\n      <td>...</td>\n    </tr>\n    <tr>\n      <th>10881</th>\n      <td>4</td>\n      <td>1</td>\n      <td>12</td>\n      <td>19</td>\n      <td>0</td>\n      <td>3</td>\n      <td>1</td>\n      <td>1</td>\n      <td>0.38</td>\n      <td>0.3939</td>\n      <td>0.50</td>\n      <td>0.3881</td>\n      <td>0.343910</td>\n    </tr>\n    <tr>\n      <th>10882</th>\n      <td>4</td>\n      <td>1</td>\n      <td>12</td>\n      <td>20</td>\n      <td>0</td>\n      <td>3</td>\n      <td>1</td>\n      <td>1</td>\n      <td>0.36</td>\n      <td>0.3485</td>\n      <td>0.57</td>\n      <td>0.2239</td>\n      <td>0.246673</td>\n    </tr>\n    <tr>\n      <th>10883</th>\n      <td>4</td>\n      <td>1</td>\n      <td>12</td>\n      <td>21</td>\n      <td>0</td>\n      <td>3</td>\n      <td>1</td>\n      <td>1</td>\n      <td>0.34</td>\n      <td>0.3182</td>\n      <td>0.61</td>\n      <td>0.2239</td>\n      <td>0.171955</td>\n    </tr>\n    <tr>\n      <th>10884</th>\n      <td>4</td>\n      <td>1</td>\n      <td>12</td>\n      <td>22</td>\n      <td>0</td>\n      <td>3</td>\n      <td>1</td>\n      <td>1</td>\n      <td>0.34</td>\n      <td>0.3485</td>\n      <td>0.61</td>\n      <td>0.0896</td>\n      <td>0.132037</td>\n    </tr>\n    <tr>\n      <th>10885</th>\n      <td>4</td>\n      <td>1</td>\n      <td>12</td>\n      <td>23</td>\n      <td>0</td>\n      <td>3</td>\n      <td>1</td>\n      <td>1</td>\n      <td>0.32</td>\n      <td>0.3333</td>\n      <td>0.66</td>\n      <td>0.1343</td>\n      <td>0.090072</td>\n    </tr>\n  </tbody>\n</table>\n<p>10886 rows × 13 columns</p>\n</div>"
     },
     "execution_count": 17,
     "metadata": {},
     "output_type": "execute_result"
    }
   ],
   "source": [
    "df"
   ]
  },
  {
   "cell_type": "code",
   "execution_count": 18,
   "metadata": {
    "ExecuteTime": {
     "end_time": "2021-10-21T22:50:59.509872Z",
     "start_time": "2021-10-21T22:50:59.492847Z"
    },
    "id": "iVnKi_SXKpsd"
   },
   "outputs": [],
   "source": [
    "import torch.nn as nn"
   ]
  },
  {
   "cell_type": "code",
   "execution_count": 19,
   "metadata": {
    "ExecuteTime": {
     "end_time": "2021-10-21T22:50:59.709977Z",
     "start_time": "2021-10-21T22:50:59.702022Z"
    },
    "id": "QJjw8vnLKeDG"
   },
   "outputs": [],
   "source": [
    "class SimpleClassifier(nn.Module):\n",
    "\n",
    "    def __init__(self, num_inputs, num_hidden, num_hidden2, num_outputs):\n",
    "        super().__init__()\n",
    "        # Initialize the modules we need to build the network\n",
    "        self.linear1 = nn.Linear(num_inputs, num_hidden)\n",
    "        self.act_fn = nn.Sigmoid()\n",
    "        self.linear2 = nn.Linear(num_hidden, num_hidden2)\n",
    "        self.act_fn2 = nn.LeakyReLU()\n",
    "        self.linear3 = nn.Linear(num_hidden2, num_outputs)\n",
    "        \n",
    "\n",
    "    def forward(self, x):\n",
    "        # Perform the calculation of the model to determine the prediction\n",
    "        x = self.linear1(x)\n",
    "        x = self.act_fn(x)\n",
    "        x = self.linear2(x)\n",
    "        x = self.act_fn2(x)\n",
    "        x = self.linear3(x)\n",
    "        return x"
   ]
  },
  {
   "cell_type": "code",
   "execution_count": 20,
   "metadata": {
    "ExecuteTime": {
     "end_time": "2021-10-21T22:51:00.099685Z",
     "start_time": "2021-10-21T22:51:00.092535Z"
    },
    "id": "dr0bVeDeHU95"
   },
   "outputs": [],
   "source": [
    "import torch.utils.data as data"
   ]
  },
  {
   "cell_type": "code",
   "execution_count": 21,
   "metadata": {},
   "outputs": [],
   "source": [
    "train=df.sample(frac=0.8,random_state=200) #random state is a seed value\n",
    "test=df.drop(train.index)"
   ]
  },
  {
   "cell_type": "code",
   "execution_count": 22,
   "metadata": {
    "ExecuteTime": {
     "end_time": "2021-10-21T22:51:00.451912Z",
     "start_time": "2021-10-21T22:51:00.442908Z"
    },
    "id": "Yc4yPJDpHZjC"
   },
   "outputs": [],
   "source": [
    "train_dataset = data.TensorDataset(torch.from_numpy(train.values[:,:-1]),torch.from_numpy(train.values[:,-1]))"
   ]
  },
  {
   "cell_type": "code",
   "execution_count": 23,
   "metadata": {
    "ExecuteTime": {
     "end_time": "2021-10-21T22:51:00.866798Z",
     "start_time": "2021-10-21T22:51:00.849741Z"
    }
   },
   "outputs": [
    {
     "data": {
      "text/plain": "(tensor([ 4.0000,  0.0000, 10.0000,  5.0000,  0.0000,  6.0000,  0.0000,  1.0000,\n          0.4200,  0.4242,  0.7100,  0.1642], dtype=torch.float64),\n tensor(0.0072, dtype=torch.float64))"
     },
     "execution_count": 23,
     "metadata": {},
     "output_type": "execute_result"
    }
   ],
   "source": [
    "next(iter(train_dataset))"
   ]
  },
  {
   "cell_type": "code",
   "execution_count": 24,
   "metadata": {
    "ExecuteTime": {
     "end_time": "2021-10-21T22:51:01.192269Z",
     "start_time": "2021-10-21T22:51:01.175233Z"
    },
    "colab": {
     "base_uri": "https://localhost:8080/"
    },
    "id": "Mdm6Cp1hKBcZ",
    "outputId": "2b7abfd6-ed54-42ce-9489-0605fa33c418"
   },
   "outputs": [],
   "source": [
    "train_data_loader = data.DataLoader(train_dataset, batch_size=128, shuffle=True)\n",
    "\n",
    "model = SimpleClassifier(num_inputs=12, num_hidden=32, num_hidden2=8, num_outputs=1)\n",
    "model.to(device)\n",
    "\n",
    "optimizer = torch.optim.Adam(model.parameters(), lr = 3e-4)\n",
    "\n",
    "loss_module = nn.MSELoss()\n"
   ]
  },
  {
   "cell_type": "code",
   "execution_count": 25,
   "metadata": {
    "ExecuteTime": {
     "end_time": "2021-10-21T22:52:24.098036Z",
     "start_time": "2021-10-21T22:51:01.791882Z"
    },
    "colab": {
     "base_uri": "https://localhost:8080/"
    },
    "id": "mr5shxmlMoIj",
    "outputId": "fcb85644-76ea-442d-ceda-24cf3590dc57",
    "scrolled": true
   },
   "outputs": [
    {
     "name": "stdout",
     "output_type": "stream",
     "text": [
      "Epoch: 0, loss: 0.0311\n",
      "Epoch: 1, loss: 0.0138\n",
      "Epoch: 2, loss: 0.0048\n",
      "Epoch: 3, loss: 0.0232\n",
      "Epoch: 4, loss: 0.00656\n",
      "Epoch: 5, loss: 0.0139\n",
      "Epoch: 6, loss: 0.0117\n",
      "Epoch: 7, loss: 0.0198\n",
      "Epoch: 8, loss: 0.00657\n",
      "Epoch: 9, loss: 0.0641\n",
      "Epoch: 10, loss: 0.0434\n",
      "Epoch: 11, loss: 0.0239\n",
      "Epoch: 12, loss: 0.0807\n",
      "Epoch: 13, loss: 0.00559\n",
      "Epoch: 14, loss: 0.049\n",
      "Epoch: 15, loss: 0.0174\n",
      "Epoch: 16, loss: 0.00766\n",
      "Epoch: 17, loss: 0.00335\n",
      "Epoch: 18, loss: 0.0106\n",
      "Epoch: 19, loss: 0.00994\n",
      "Epoch: 20, loss: 0.0152\n",
      "Epoch: 21, loss: 0.0126\n",
      "Epoch: 22, loss: 0.0559\n",
      "Epoch: 23, loss: 0.00465\n",
      "Epoch: 24, loss: 0.0529\n",
      "Epoch: 25, loss: 0.0188\n",
      "Epoch: 26, loss: 0.0523\n",
      "Epoch: 27, loss: 0.00437\n",
      "Epoch: 28, loss: 0.00515\n",
      "Epoch: 29, loss: 0.00453\n",
      "Epoch: 30, loss: 0.0146\n",
      "Epoch: 31, loss: 0.0036\n",
      "Epoch: 32, loss: 0.0366\n",
      "Epoch: 33, loss: 0.0178\n",
      "Epoch: 34, loss: 0.00846\n",
      "Epoch: 35, loss: 0.0181\n",
      "Epoch: 36, loss: 0.0134\n",
      "Epoch: 37, loss: 0.0232\n",
      "Epoch: 38, loss: 0.0121\n",
      "Epoch: 39, loss: 0.0261\n",
      "Epoch: 40, loss: 0.015\n",
      "Epoch: 41, loss: 0.0084\n",
      "Epoch: 42, loss: 0.00631\n",
      "Epoch: 43, loss: 0.0123\n",
      "Epoch: 44, loss: 0.00284\n",
      "Epoch: 45, loss: 0.0814\n",
      "Epoch: 46, loss: 0.0105\n",
      "Epoch: 47, loss: 0.00342\n",
      "Epoch: 48, loss: 0.0118\n",
      "Epoch: 49, loss: 0.0155\n",
      "Epoch: 50, loss: 0.0339\n",
      "Epoch: 51, loss: 0.00396\n",
      "Epoch: 52, loss: 0.0146\n",
      "Epoch: 53, loss: 0.0326\n",
      "Epoch: 54, loss: 0.0228\n",
      "Epoch: 55, loss: 0.0108\n",
      "Epoch: 56, loss: 0.00678\n",
      "Epoch: 57, loss: 0.0437\n",
      "Epoch: 58, loss: 0.00293\n",
      "Epoch: 59, loss: 0.0071\n",
      "Epoch: 60, loss: 0.0235\n",
      "Epoch: 61, loss: 0.00637\n",
      "Epoch: 62, loss: 0.00312\n",
      "Epoch: 63, loss: 0.00228\n",
      "Epoch: 64, loss: 0.00434\n",
      "Epoch: 65, loss: 0.0274\n",
      "Epoch: 66, loss: 0.0372\n",
      "Epoch: 67, loss: 0.00223\n",
      "Epoch: 68, loss: 0.0083\n",
      "Epoch: 69, loss: 0.0408\n",
      "Epoch: 70, loss: 0.00918\n",
      "Epoch: 71, loss: 0.0288\n",
      "Epoch: 72, loss: 0.0043\n",
      "Epoch: 73, loss: 0.00194\n",
      "Epoch: 74, loss: 0.0088\n",
      "Epoch: 75, loss: 0.0012\n",
      "Epoch: 76, loss: 0.0177\n",
      "Epoch: 77, loss: 0.0195\n",
      "Epoch: 78, loss: 0.0214\n",
      "Epoch: 79, loss: 0.00426\n",
      "Epoch: 80, loss: 0.00397\n",
      "Epoch: 81, loss: 0.00211\n",
      "Epoch: 82, loss: 0.00239\n",
      "Epoch: 83, loss: 0.0138\n",
      "Epoch: 84, loss: 0.0106\n",
      "Epoch: 85, loss: 0.00249\n",
      "Epoch: 86, loss: 0.0103\n",
      "Epoch: 87, loss: 0.0024\n",
      "Epoch: 88, loss: 0.00601\n",
      "Epoch: 89, loss: 0.00252\n",
      "Epoch: 90, loss: 0.0237\n",
      "Epoch: 91, loss: 0.00929\n",
      "Epoch: 92, loss: 0.000308\n",
      "Epoch: 93, loss: 0.00111\n",
      "Epoch: 94, loss: 0.0686\n",
      "Epoch: 95, loss: 0.00775\n",
      "Epoch: 96, loss: 0.00458\n",
      "Epoch: 97, loss: 0.00179\n",
      "Epoch: 98, loss: 0.00617\n",
      "Epoch: 99, loss: 0.00406\n",
      "Epoch: 100, loss: 0.0417\n",
      "Epoch: 101, loss: 0.0014\n",
      "Epoch: 102, loss: 0.00638\n",
      "Epoch: 103, loss: 0.00246\n",
      "Epoch: 104, loss: 0.0126\n",
      "Epoch: 105, loss: 0.00564\n",
      "Epoch: 106, loss: 0.00187\n",
      "Epoch: 107, loss: 0.0033\n",
      "Epoch: 108, loss: 0.00214\n",
      "Epoch: 109, loss: 0.00908\n",
      "Epoch: 110, loss: 0.0071\n",
      "Epoch: 111, loss: 0.00656\n",
      "Epoch: 112, loss: 0.00115\n",
      "Epoch: 113, loss: 0.00699\n",
      "Epoch: 114, loss: 0.000701\n",
      "Epoch: 115, loss: 0.0147\n",
      "Epoch: 116, loss: 0.00455\n",
      "Epoch: 117, loss: 0.00134\n",
      "Epoch: 118, loss: 0.00932\n",
      "Epoch: 119, loss: 0.00102\n",
      "Epoch: 120, loss: 0.00262\n",
      "Epoch: 121, loss: 0.00865\n",
      "Epoch: 122, loss: 0.0202\n",
      "Epoch: 123, loss: 0.00432\n",
      "Epoch: 124, loss: 0.00511\n",
      "Epoch: 125, loss: 0.0153\n",
      "Epoch: 126, loss: 0.00896\n",
      "Epoch: 127, loss: 0.00246\n",
      "Epoch: 128, loss: 0.00389\n",
      "Epoch: 129, loss: 0.000302\n",
      "Epoch: 130, loss: 0.00766\n",
      "Epoch: 131, loss: 0.00421\n",
      "Epoch: 132, loss: 0.0404\n",
      "Epoch: 133, loss: 0.00524\n",
      "Epoch: 134, loss: 0.00242\n",
      "Epoch: 135, loss: 0.00124\n",
      "Epoch: 136, loss: 0.025\n",
      "Epoch: 137, loss: 0.0275\n",
      "Epoch: 138, loss: 0.0187\n",
      "Epoch: 139, loss: 0.000818\n",
      "Epoch: 140, loss: 0.0321\n",
      "Epoch: 141, loss: 0.00513\n",
      "Epoch: 142, loss: 0.00154\n",
      "Epoch: 143, loss: 0.00114\n",
      "Epoch: 144, loss: 0.004\n",
      "Epoch: 145, loss: 0.00343\n",
      "Epoch: 146, loss: 0.00356\n",
      "Epoch: 147, loss: 0.00712\n",
      "Epoch: 148, loss: 0.00555\n",
      "Epoch: 149, loss: 0.0439\n",
      "Epoch: 150, loss: 0.000937\n",
      "Epoch: 151, loss: 0.0162\n",
      "Epoch: 152, loss: 0.00504\n",
      "Epoch: 153, loss: 0.00672\n",
      "Epoch: 154, loss: 0.00147\n",
      "Epoch: 155, loss: 0.00552\n",
      "Epoch: 156, loss: 0.00324\n",
      "Epoch: 157, loss: 0.00128\n",
      "Epoch: 158, loss: 0.0101\n",
      "Epoch: 159, loss: 0.000989\n",
      "Epoch: 160, loss: 0.00168\n",
      "Epoch: 161, loss: 0.00019\n",
      "Epoch: 162, loss: 0.0121\n",
      "Epoch: 163, loss: 0.00201\n",
      "Epoch: 164, loss: 0.00734\n",
      "Epoch: 165, loss: 0.015\n",
      "Epoch: 166, loss: 0.00692\n",
      "Epoch: 167, loss: 0.00108\n",
      "Epoch: 168, loss: 0.0378\n",
      "Epoch: 169, loss: 0.00193\n",
      "Epoch: 170, loss: 0.00649\n",
      "Epoch: 171, loss: 0.0163\n",
      "Epoch: 172, loss: 0.00838\n",
      "Epoch: 173, loss: 0.00778\n",
      "Epoch: 174, loss: 0.00609\n",
      "Epoch: 175, loss: 0.0132\n",
      "Epoch: 176, loss: 0.0118\n",
      "Epoch: 177, loss: 0.028\n",
      "Epoch: 178, loss: 0.0188\n",
      "Epoch: 179, loss: 0.000192\n",
      "Epoch: 180, loss: 0.0121\n",
      "Epoch: 181, loss: 0.00208\n",
      "Epoch: 182, loss: 0.00356\n",
      "Epoch: 183, loss: 0.00396\n",
      "Epoch: 184, loss: 0.0264\n",
      "Epoch: 185, loss: 0.00518\n",
      "Epoch: 186, loss: 0.000741\n",
      "Epoch: 187, loss: 0.0202\n",
      "Epoch: 188, loss: 0.00431\n",
      "Epoch: 189, loss: 0.00296\n",
      "Epoch: 190, loss: 0.0047\n",
      "Epoch: 191, loss: 0.0107\n",
      "Epoch: 192, loss: 0.00412\n",
      "Epoch: 193, loss: 0.00447\n",
      "Epoch: 194, loss: 0.0153\n",
      "Epoch: 195, loss: 0.000569\n",
      "Epoch: 196, loss: 0.00533\n",
      "Epoch: 197, loss: 0.00572\n",
      "Epoch: 198, loss: 0.00359\n",
      "Epoch: 199, loss: 0.00103\n",
      "Epoch: 200, loss: 0.00188\n",
      "Epoch: 201, loss: 0.00799\n",
      "Epoch: 202, loss: 0.00794\n",
      "Epoch: 203, loss: 0.0067\n",
      "Epoch: 204, loss: 0.00143\n",
      "Epoch: 205, loss: 0.000681\n",
      "Epoch: 206, loss: 0.00619\n",
      "Epoch: 207, loss: 0.00171\n",
      "Epoch: 208, loss: 0.00259\n",
      "Epoch: 209, loss: 0.00389\n",
      "Epoch: 210, loss: 0.00217\n",
      "Epoch: 211, loss: 0.00359\n",
      "Epoch: 212, loss: 0.0051\n",
      "Epoch: 213, loss: 0.00118\n",
      "Epoch: 214, loss: 0.00276\n",
      "Epoch: 215, loss: 0.00197\n",
      "Epoch: 216, loss: 0.00416\n",
      "Epoch: 217, loss: 0.00261\n",
      "Epoch: 218, loss: 0.00211\n",
      "Epoch: 219, loss: 0.000499\n",
      "Epoch: 220, loss: 0.000726\n",
      "Epoch: 221, loss: 0.000217\n",
      "Epoch: 222, loss: 0.00465\n",
      "Epoch: 223, loss: 0.00597\n",
      "Epoch: 224, loss: 0.00623\n",
      "Epoch: 225, loss: 0.00179\n",
      "Epoch: 226, loss: 0.00214\n",
      "Epoch: 227, loss: 0.00972\n",
      "Epoch: 228, loss: 0.000824\n",
      "Epoch: 229, loss: 0.000836\n",
      "Epoch: 230, loss: 0.000367\n",
      "Epoch: 231, loss: 0.0133\n",
      "Epoch: 232, loss: 0.00327\n",
      "Epoch: 233, loss: 0.0369\n",
      "Epoch: 234, loss: 0.00215\n",
      "Epoch: 235, loss: 0.0123\n",
      "Epoch: 236, loss: 0.00177\n",
      "Epoch: 237, loss: 0.0114\n",
      "Epoch: 238, loss: 0.0035\n",
      "Epoch: 239, loss: 0.0174\n",
      "Epoch: 240, loss: 0.00874\n",
      "Epoch: 241, loss: 0.0128\n",
      "Epoch: 242, loss: 0.00253\n",
      "Epoch: 243, loss: 0.00751\n",
      "Epoch: 244, loss: 0.00197\n",
      "Epoch: 245, loss: 0.000842\n",
      "Epoch: 246, loss: 0.00155\n",
      "Epoch: 247, loss: 0.00272\n",
      "Epoch: 248, loss: 0.00843\n",
      "Epoch: 249, loss: 0.00799\n"
     ]
    }
   ],
   "source": [
    "model.train()\n",
    "for epoch in range(250):\n",
    "    for data_inputs, data_labels in train_data_loader:\n",
    "\n",
    "        ## Step 1: Move input data to device (only strictly necessary if we use GPU)\n",
    "        data_inputs = data_inputs.to(device)\n",
    "        data_labels = data_labels.to(device)\n",
    "\n",
    "        ## Step 2: Run the model on the input data\n",
    "        preds = model(data_inputs.float())\n",
    "        preds = preds.squeeze(dim=1) # Output is [Batch size, 1], but we want [Batch size]\n",
    "\n",
    "        ## Step 3: Calculate the loss\n",
    "        loss = loss_module(preds, data_labels.float())\n",
    "\n",
    "        ## Step 4: Perform backpropagation\n",
    "        # Before calculating the gradients, we need to ensure that they are all zero. \n",
    "        # The gradients would not be overwritten, but actually added to the existing ones.\n",
    "        optimizer.zero_grad() \n",
    "        # Perform backpropagation\n",
    "        loss.backward()\n",
    "\n",
    "        ## Step 5: Update the parameters\n",
    "        optimizer.step()\n",
    "    print(f\"Epoch: {epoch}, loss: {loss.item():.3}\")"
   ]
  },
  {
   "cell_type": "code",
   "execution_count": 32,
   "metadata": {
    "ExecuteTime": {
     "end_time": "2021-10-21T22:52:27.318107Z",
     "start_time": "2021-10-21T22:52:27.301058Z"
    },
    "id": "wMSewFV8P7yn"
   },
   "outputs": [],
   "source": [
    "test_dataset = data.TensorDataset(torch.from_numpy(test.values[:,:-1]))\n",
    "test_labels = data.TensorDataset(torch.from_numpy(test.values[:, -1]))\n",
    "\n",
    "\n",
    "labels_list = []\n",
    "for item in test_labels:\n",
    "  labels_list.append(float(item[0])*max_val)\n"
   ]
  },
  {
   "cell_type": "code",
   "execution_count": 33,
   "metadata": {
    "ExecuteTime": {
     "end_time": "2021-10-21T22:52:31.558070Z",
     "start_time": "2021-10-21T22:52:28.315315Z"
    },
    "id": "yzpVllHjjhdi"
   },
   "outputs": [
    {
     "name": "stdout",
     "output_type": "stream",
     "text": [
      "0.8791237165389822\n"
     ]
    }
   ],
   "source": [
    "model.eval() # Set model to eval mode\n",
    "\n",
    "preds_list = []\n",
    "with torch.no_grad(): # Deactivate gradients for the following code\n",
    "    for data_inputs in test_dataset:\n",
    "        data_inputs = data_inputs[0].to(device)\n",
    "        preds = model(data_inputs.float())\n",
    "        preds_cp = preds.cpu()\n",
    "        preds_list.append(float(preds_cp)*max_val[0])\n",
    "df_prim = pd.DataFrame(preds_list)\n",
    "csv = df_prim.to_csv(index=False, header=False)\n",
    "with open('konfidenci.csv', 'w', newline='') as f:\n",
    "  f.write(csv)\n",
    "\n",
    "def rmsle(y_true,y_pred):\n",
    "    n = len(y_true)\n",
    "    msle = np.mean([(np.log(max(y_pred[i],0) + 1) - np.log(y_true[i] + 1)) ** 2.0 for i in range(n)])\n",
    "    return np.sqrt(msle)\n",
    "\n",
    "print(rmsle(labels_list, preds_list))\n",
    "\n",
    "\n"
   ]
  }
 ],
 "metadata": {
  "accelerator": "GPU",
  "colab": {
   "collapsed_sections": [],
   "name": "LAB3.ipynb",
   "provenance": []
  },
  "interpreter": {
   "hash": "a71e8793c594be1bbbf11c8ae89370a79d3b2606fd0f96fd861ab46e94009a21"
  },
  "kernelspec": {
   "display_name": "Python 3.9.5 64-bit",
   "name": "python3"
  },
  "language_info": {
   "codemirror_mode": {
    "name": "ipython",
    "version": 3
   },
   "file_extension": ".py",
   "mimetype": "text/x-python",
   "name": "python",
   "nbconvert_exporter": "python",
   "pygments_lexer": "ipython3",
   "version": "3.10.3"
  },
  "toc": {
   "base_numbering": 1,
   "nav_menu": {},
   "number_sections": true,
   "sideBar": true,
   "skip_h1_title": false,
   "title_cell": "Table of Contents",
   "title_sidebar": "Contents",
   "toc_cell": false,
   "toc_position": {},
   "toc_section_display": true,
   "toc_window_display": false
  }
 },
 "nbformat": 4,
 "nbformat_minor": 1
}